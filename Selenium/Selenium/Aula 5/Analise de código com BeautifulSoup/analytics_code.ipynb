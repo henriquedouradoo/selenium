{
  "nbformat": 4,
  "nbformat_minor": 0,
  "metadata": {
    "colab": {
      "provenance": []
    },
    "kernelspec": {
      "name": "python3",
      "display_name": "Python 3"
    },
    "language_info": {
      "name": "python"
    }
  },
  "cells": [
    {
      "cell_type": "code",
      "execution_count": 2,
      "metadata": {
        "id": "M27Knu8QYx2g"
      },
      "outputs": [],
      "source": [
        "from bs4 import BeautifulSoup"
      ]
    },
    {
      "cell_type": "code",
      "source": [
        "import requests"
      ],
      "metadata": {
        "id": "9lxqVeLLZMDt"
      },
      "execution_count": 3,
      "outputs": []
    },
    {
      "cell_type": "code",
      "source": [
        "url = 'https://quotes.toscrape.com/page/&quot'\n",
        "inicial_page = 1\n",
        "end_page = 10\n",
        "author = 'Albert Einstein'\n",
        "quotes = []"
      ],
      "metadata": {
        "id": "5TwGbNc6ZQaN"
      },
      "execution_count": 9,
      "outputs": []
    },
    {
      "cell_type": "code",
      "source": [
        "for page in range(inicial_page,end_page):\n",
        "  response = requests.get(url + str(page))\n",
        "  soup = BeautifulSoup(response.text, 'html.parser')\n",
        "  page_quotes = soup.find_all('div', class_='quote')"
      ],
      "metadata": {
        "id": "T91KVeMoZ_id"
      },
      "execution_count": 10,
      "outputs": []
    },
    {
      "cell_type": "code",
      "source": [
        "for quote in page_quotes:\n",
        "  if (quote.find('small', class_='author').text == author):\n",
        "    quote_text = quote.find('span', class_='text').text\n",
        "    quotes.append(quote_text)\n",
        "    print('Quote found: ' + quote_text)\n",
        ""
      ],
      "metadata": {
        "id": "4CklfmTpbYl9"
      },
      "execution_count": 14,
      "outputs": []
    },
    {
      "cell_type": "code",
      "source": [
        "print('Number of quotes: ' + str(len(quotes)))"
      ],
      "metadata": {
        "colab": {
          "base_uri": "https://localhost:8080/"
        },
        "id": "LjmbznTcciIs",
        "outputId": "6551b83a-2363-4a25-bfd4-509c88a0c104"
      },
      "execution_count": 15,
      "outputs": [
        {
          "output_type": "stream",
          "name": "stdout",
          "text": [
            "Number of quotes: 0\n"
          ]
        }
      ]
    }
  ]
}